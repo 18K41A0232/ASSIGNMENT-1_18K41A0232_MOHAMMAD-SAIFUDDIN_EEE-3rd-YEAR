{
 "cells": [
  {
   "cell_type": "code",
   "execution_count": 1,
   "metadata": {},
   "outputs": [
    {
     "name": "stdin",
     "output_type": "stream",
     "text": [
      "enter any year 2000\n"
     ]
    },
    {
     "name": "stdout",
     "output_type": "stream",
     "text": [
      "8\n",
      "Dragon\n"
     ]
    }
   ],
   "source": [
    "year=int(input('enter any year'))\n",
    "d=year%12\n",
    "print(d)\n",
    "data={0:'Monkey', 1:'Rooster', 2:'Pig', 3:'Dog', 4:'Rat', 5:'Ox', 6:'Tiger', 7:'Rabbit', 8:'Dragon', 9:'Horse', 10:'Snake', 11:'sheep'}\n",
    "output=data.get(d)\n",
    "print(output)"
   ]
  },
  {
   "cell_type": "code",
   "execution_count": 2,
   "metadata": {},
   "outputs": [
    {
     "name": "stdin",
     "output_type": "stream",
     "text": [
      "Enter the distance travelled 520\n",
      "Enter weight 50\n"
     ]
    },
    {
     "name": "stdout",
     "output_type": "stream",
     "text": [
      "charge for goods in rupees is : 3120\n"
     ]
    }
   ],
   "source": [
    "distance=int(input('Enter the distance travelled'))\n",
    "weight=int(input('Enter weight'))\n",
    "if distance>=500:\n",
    "    if weight>=100:\n",
    "        cost=5*distance\n",
    "    elif weight>=10 and weight<100:\n",
    "            cost=6*distance\n",
    "    else:\n",
    "          cost=7*distance \n",
    "else:\n",
    "    if weight>=100:\n",
    "        cost=8*distance\n",
    "    else:\n",
    "        cost=5*distance \n",
    "print('charge for goods in rupees is :', cost)"
   ]
  },
  {
   "cell_type": "code",
   "execution_count": 3,
   "metadata": {},
   "outputs": [
    {
     "name": "stdin",
     "output_type": "stream",
     "text": [
      "type seat : circle\n",
      "payment mode : cash\n"
     ]
    },
    {
     "name": "stdout",
     "output_type": "stream",
     "text": [
      "amount payable 675.0\n"
     ]
    }
   ],
   "source": [
    "s=input('type seat :')\n",
    "p=input('payment mode :') \n",
    "\n",
    "if p=='cash':\n",
    "    if s=='stalls':\n",
    "         total=625\n",
    "    elif s=='circle':\n",
    "         total=750\n",
    "    elif s=='upper class':\n",
    "         total=850\n",
    "    elif s=='bill': \n",
    "        total=1000\n",
    "    d=total-total*0.1\n",
    "elif p=='credit': \n",
    "    if s=='stalls':\n",
    "        total=625\n",
    "    elif s=='circle':\n",
    "        total=750 \n",
    "    elif s=='upper class':\n",
    "        total=850\n",
    "    elif s=='bill':\n",
    "        total=1000\n",
    "    d=total-total*0.05 \n",
    "print('amount payable',d)"
   ]
  },
  {
   "cell_type": "code",
   "execution_count": 4,
   "metadata": {},
   "outputs": [
    {
     "name": "stdin",
     "output_type": "stream",
     "text": [
      "enter water in kgs :  500\n",
      "enter intial temperature in celsius :  30\n",
      "enter final temperature in celsius :  60\n"
     ]
    },
    {
     "name": "stdout",
     "output_type": "stream",
     "text": [
      "62760000 KJ ENERGY IS USED\n"
     ]
    }
   ],
   "source": [
    "m=int(input('enter water in kgs : '))\n",
    "it=int(input('enter intial temperature in celsius : '))\n",
    "ft=int(input('enter final temperature in celsius : '))\n",
    "q=m*(ft-it)*4184\n",
    "print(q,\"KJ ENERGY IS USED\")"
   ]
  },
  {
   "cell_type": "code",
   "execution_count": 5,
   "metadata": {},
   "outputs": [
    {
     "name": "stdin",
     "output_type": "stream",
     "text": [
      "enter month : july\n"
     ]
    },
    {
     "name": "stdout",
     "output_type": "stream",
     "text": [
      "summer\n"
     ]
    }
   ],
   "source": [
    "month=input('enter month :')\n",
    "if month=='december' or month=='january' or month=='february':\n",
    "    print('winter')\n",
    "elif month=='March' or month=='april' or month=='may':\n",
    "    print('spring')\n",
    "elif month=='june' or month=='july' or month=='august': \n",
    "    print('summer')\n",
    "elif month=='september' or month=='october' or month=='november':\n",
    "    print('autumn') \n",
    "else:\n",
    "    print('check your spelling')"
   ]
  },
  {
   "cell_type": "code",
   "execution_count": 6,
   "metadata": {},
   "outputs": [
    {
     "name": "stdin",
     "output_type": "stream",
     "text": [
      "enter height in inches : 5.2\n",
      "enter weight in pounds : 50\n"
     ]
    },
    {
     "name": "stdout",
     "output_type": "stream",
     "text": [
      "your bmi is : 3379.8076923076924\n",
      "you are obese\n"
     ]
    }
   ],
   "source": [
    "h=float(input('enter height in inches :'))\n",
    "w=float(input('enter weight in pounds :'))\n",
    "bmi=(w*703)/(h*2);\n",
    "if bmi<18.5:\n",
    "  print('your bmi is :',bmi)\n",
    "  print('you are under weight')\n",
    "elif bmi>18.5 and bmi<25:\n",
    "  print('your bmi is :',bmi)\n",
    "  print('you are normal weight')\n",
    "elif bmi>25 and bmi<30:\n",
    "  print('your bmi is :',bmi)\n",
    "  print('you are over weight')\n",
    "else:\n",
    "  print('your bmi is :',bmi)\n",
    "  print('you are obese')"
   ]
  },
  {
   "cell_type": "code",
   "execution_count": 7,
   "metadata": {},
   "outputs": [
    {
     "name": "stdin",
     "output_type": "stream",
     "text": [
      "enter a number between 100 and 1000 : 745\n"
     ]
    },
    {
     "name": "stdout",
     "output_type": "stream",
     "text": [
      "16\n"
     ]
    }
   ],
   "source": [
    "num=int(input('enter a number between 100 and 1000 :'))\n",
    "sum=v=0\n",
    "while(num>0):\n",
    "  v=num%10\n",
    "  sum=sum+v\n",
    "  num=num//10\n",
    "print(sum)"
   ]
  },
  {
   "cell_type": "code",
   "execution_count": 9,
   "metadata": {},
   "outputs": [
    {
     "name": "stdout",
     "output_type": "stream",
     "text": [
      "1\n",
      "2\n",
      "3\n",
      "4\n",
      "5\n",
      "6\n",
      "7\n",
      "8\n",
      "9\n",
      "11\n",
      "22\n",
      "33\n",
      "44\n",
      "55\n",
      "66\n",
      "77\n",
      "88\n",
      "99\n",
      "101\n",
      "111\n",
      "121\n",
      "131\n",
      "141\n",
      "151\n",
      "161\n",
      "171\n",
      "181\n",
      "191\n",
      "202\n",
      "212\n",
      "222\n",
      "232\n",
      "242\n",
      "252\n",
      "262\n",
      "272\n",
      "282\n",
      "292\n",
      "303\n",
      "313\n",
      "323\n",
      "333\n",
      "343\n",
      "353\n",
      "363\n",
      "373\n",
      "383\n",
      "393\n",
      "404\n",
      "414\n",
      "424\n",
      "434\n",
      "444\n",
      "454\n",
      "464\n",
      "474\n",
      "484\n",
      "494\n",
      "505\n",
      "515\n",
      "525\n",
      "535\n",
      "545\n",
      "555\n",
      "565\n",
      "575\n",
      "585\n",
      "595\n",
      "606\n",
      "616\n",
      "626\n",
      "636\n",
      "646\n",
      "656\n",
      "666\n",
      "676\n",
      "686\n",
      "696\n",
      "707\n",
      "717\n",
      "727\n",
      "737\n",
      "747\n",
      "757\n",
      "767\n",
      "777\n",
      "787\n",
      "797\n",
      "808\n",
      "818\n",
      "828\n",
      "838\n",
      "848\n",
      "858\n",
      "868\n",
      "878\n",
      "888\n",
      "898\n",
      "909\n",
      "919\n",
      "929\n",
      "939\n",
      "949\n",
      "959\n",
      "969\n",
      "979\n",
      "989\n",
      "999\n"
     ]
    }
   ],
   "source": [
    "for n in range(1,1000):\n",
    "  rev=0\n",
    "  num=n\n",
    "  while num>0:\n",
    "    d=num%10\n",
    "    rev=rev*10+d\n",
    "    num=num//10\n",
    "  if n==rev:\n",
    "      print(n)"
   ]
  },
  {
   "cell_type": "code",
   "execution_count": 8,
   "metadata": {},
   "outputs": [
    {
     "name": "stdout",
     "output_type": "stream",
     "text": [
      "1\n",
      "2\n",
      "3\n",
      "4\n",
      "5\n",
      "6\n",
      "7\n",
      "8\n",
      "9\n",
      "153\n",
      "370\n",
      "371\n",
      "407\n"
     ]
    }
   ],
   "source": [
    "first=1\n",
    "last=1000\n",
    "for num in range(first,last+1):\n",
    "  order=len(str(num))\n",
    "  x=num\n",
    "  sum=0\n",
    "  while x>0:\n",
    "    digit=x%10\n",
    "    sum=sum+(digit**order)\n",
    "    x=x//10\n",
    "  if (num==sum):\n",
    "    print(num)"
   ]
  },
  {
   "cell_type": "code",
   "execution_count": 10,
   "metadata": {},
   "outputs": [
    {
     "name": "stdout",
     "output_type": "stream",
     "text": [
      "1\n",
      "2\n",
      "fizz\n",
      "4\n",
      "buzz\n",
      "fizz\n",
      "7\n",
      "8\n",
      "fizz\n",
      "buzz\n",
      "11\n",
      "fizz\n",
      "13\n",
      "14\n",
      "fizz buzz\n",
      "16\n",
      "17\n",
      "fizz\n",
      "19\n",
      "buzz\n",
      "fizz\n",
      "22\n",
      "23\n",
      "fizz\n",
      "buzz\n",
      "26\n",
      "fizz\n",
      "28\n",
      "29\n",
      "fizz buzz\n",
      "31\n",
      "32\n",
      "fizz\n",
      "34\n",
      "buzz\n",
      "fizz\n",
      "37\n",
      "38\n",
      "fizz\n",
      "buzz\n",
      "41\n",
      "fizz\n",
      "43\n",
      "44\n",
      "fizz buzz\n",
      "46\n",
      "47\n",
      "fizz\n",
      "49\n",
      "buzz\n",
      "fizz\n",
      "52\n",
      "53\n",
      "fizz\n",
      "buzz\n",
      "56\n",
      "fizz\n",
      "58\n",
      "59\n",
      "fizz buzz\n",
      "61\n",
      "62\n",
      "fizz\n",
      "64\n",
      "buzz\n",
      "fizz\n",
      "67\n",
      "68\n",
      "fizz\n",
      "buzz\n",
      "71\n",
      "fizz\n",
      "73\n",
      "74\n",
      "fizz buzz\n",
      "76\n",
      "77\n",
      "fizz\n",
      "79\n",
      "buzz\n",
      "fizz\n",
      "82\n",
      "83\n",
      "fizz\n",
      "buzz\n",
      "86\n",
      "fizz\n",
      "88\n",
      "89\n",
      "fizz buzz\n",
      "91\n",
      "92\n",
      "fizz\n",
      "94\n",
      "buzz\n",
      "fizz\n",
      "97\n",
      "98\n",
      "fizz\n"
     ]
    }
   ],
   "source": [
    "for n in range(1,100):\n",
    " if(n%3==0 and n%5==0):\n",
    "    print('fizz buzz')\n",
    " elif n%3==0:\n",
    "   print('fizz')\n",
    " elif n%5==0:\n",
    "   print('buzz')\n",
    " else:\n",
    "   print(n)"
   ]
  },
  {
   "cell_type": "code",
   "execution_count": 11,
   "metadata": {},
   "outputs": [
    {
     "name": "stdin",
     "output_type": "stream",
     "text": [
      "enter height of well in meters : 500\n",
      "enter meter cilmbed by spider in one step : 20\n",
      "enter meter sliped by spider in one step : 15\n"
     ]
    },
    {
     "name": "stdout",
     "output_type": "stream",
     "text": [
      "numer of steps by spider is : 98\n"
     ]
    }
   ],
   "source": [
    "h=int(input('enter height of well in meters :'))\n",
    "u=int(input('enter meter cilmbed by spider in one step :'))\n",
    "d=int(input('enter meter sliped by spider in one step :'))\n",
    "v=0\n",
    "while h>=u:\n",
    "  v=v+1\n",
    "  h=h-(u-d)\n",
    "v=v+1\n",
    "print('numer of steps by spider is :',v)"
   ]
  },
  {
   "cell_type": "code",
   "execution_count": null,
   "metadata": {},
   "outputs": [],
   "source": []
  }
 ],
 "metadata": {
  "kernelspec": {
   "display_name": "Python 3",
   "language": "python",
   "name": "python3"
  },
  "language_info": {
   "codemirror_mode": {
    "name": "ipython",
    "version": 3
   },
   "file_extension": ".py",
   "mimetype": "text/x-python",
   "name": "python",
   "nbconvert_exporter": "python",
   "pygments_lexer": "ipython3",
   "version": "3.7.6"
  }
 },
 "nbformat": 4,
 "nbformat_minor": 4
}
